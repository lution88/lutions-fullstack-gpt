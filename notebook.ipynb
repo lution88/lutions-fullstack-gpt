{
 "cells": [
  {
   "cell_type": "code",
   "execution_count": 7,
   "metadata": {},
   "outputs": [],
   "source": [
    "# from langchain.llms.openai import OpenAI\n",
    "from langchain.chat_models import ChatOpenAI\n",
    "\n",
    "# llm = OpenAI(temperature=0.1, model_name=\"gpt-3.5-turbo\")\n",
    "chat = ChatOpenAI(temperature=0.1)\n",
    "\n",
    "# a = llm.predict(\"How many planets are there?\")\n",
    "b = chat.predict(\"How many planets are there?\")"
   ]
  },
  {
   "cell_type": "code",
   "execution_count": 8,
   "metadata": {},
   "outputs": [
    {
     "data": {
      "text/plain": [
       "'There are eight planets in our solar system: Mercury, Venus, Earth, Mars, Jupiter, Saturn, Uranus, and Neptune.'"
      ]
     },
     "execution_count": 8,
     "metadata": {},
     "output_type": "execute_result"
    }
   ],
   "source": [
    "b"
   ]
  },
  {
   "cell_type": "markdown",
   "metadata": {},
   "source": [
    "Chat model 은 대화에 최적화 되어 있는데 단지 질문을 받을 뿐 아니라, 대화를 할 수 있다는 뜻이다.\n",
    "\n",
    "대화는, 그룹 오브 메세지스 즉, 여러 메세지의 묶음이라는 의미이다.\n",
    "\n",
    "상대로서 대화의 맥락에 맞게 대답할 수 있다는 뜻이다. - Chat Model\n",
    "\n"
   ]
  },
  {
   "cell_type": "markdown",
   "metadata": {},
   "source": [
    "만약 model 의 설정을 바꾸고 싶다면 "
   ]
  },
  {
   "cell_type": "code",
   "execution_count": 1,
   "metadata": {},
   "outputs": [],
   "source": [
    "from langchain.chat_models import ChatOpenAI\n",
    "\n",
    "chat = ChatOpenAI(temperature=0.1)"
   ]
  },
  {
   "cell_type": "code",
   "execution_count": 3,
   "metadata": {},
   "outputs": [],
   "source": [
    "from langchain.schema import HumanMessage, AIMessage, SystemMessage\n",
    "\n",
    "messages = [\n",
    "    SystemMessage(content=\"You are geography expert. And you only reply in Italian.\"),\n",
    "    AIMessage(content=\"Ciao, mi chiamo Paolo!\"),\n",
    "    HumanMessage(\n",
    "        content=\"What is the distance between Mexico and Thailand. Also, what is your name?\"\n",
    "    ),\n",
    "]"
   ]
  },
  {
   "cell_type": "markdown",
   "metadata": {},
   "source": [
    "SystemMessage 로 AI 에 일종의 기본 설정, 기본 값, 기본 context 설정을 함.\n",
    "\n",
    "AIMessage 로 string 을 미리 만들어두고 일종의 가상 대화(마치 AI 가 답변한 것처럼)를 만들었음.\n",
    "\n",
    "HumanMessage 로 사용자로서 질문을 함."
   ]
  },
  {
   "cell_type": "code",
   "execution_count": 4,
   "metadata": {},
   "outputs": [
    {
     "data": {
      "text/plain": [
       "AIMessage(content='Ciao! La distanza tra il Messico e la Thailandia è di circa 16.000 chilometri. Come posso aiutarti oggi?')"
      ]
     },
     "execution_count": 4,
     "metadata": {},
     "output_type": "execute_result"
    }
   ],
   "source": [
    "chat.predict_messages(messages)"
   ]
  },
  {
   "cell_type": "markdown",
   "metadata": {},
   "source": [
    "predict 와 predict_messages 는 string(text) 과 messages 를 predict 하는 차이점이 있다.\n",
    "\n",
    "---"
   ]
  },
  {
   "cell_type": "markdown",
   "metadata": {},
   "source": [
    "# Prompt Template 에 대해 알아보자\n",
    "\n"
   ]
  },
  {
   "cell_type": "markdown",
   "metadata": {},
   "source": [
    "prompt 는 중요하다. 왜? 우리가 LLM과 의사소통할 수 있는 유일한 방법이기 때문에.\n",
    "\n",
    "prompt 성능이 좋으면 llm 의 성능도 좋을 것이다.\n",
    "\n",
    "prompt template 의 종류는 두 가지로 볼 수 있다.\n",
    "1. 일반 prompt template - template 를 string 을 이용해서 만든다.\n",
    "2. chat prompt template - template 를 message 로 부터 만든다.\n",
    "\n",
    "## normal prompt template"
   ]
  },
  {
   "cell_type": "code",
   "execution_count": 6,
   "metadata": {},
   "outputs": [
    {
     "data": {
      "text/plain": [
       "'The distance between Mexico and Thailand is approximately 16,000 kilometers (9,942 miles) when measured in a straight line.'"
      ]
     },
     "execution_count": 6,
     "metadata": {},
     "output_type": "execute_result"
    }
   ],
   "source": [
    "from langchain.chat_models import ChatOpenAI\n",
    "from langchain.prompts import PromptTemplate, ChatPromptTemplate\n",
    "\n",
    "template = PromptTemplate.from_template(\n",
    "    \"What is the distance between {country_a} and {country_b}\",\n",
    ")\n",
    "\n",
    "prompt = template.format(country_a=\"Mexico\", country_b=\"Thiland\")\n",
    "\n",
    "chat = ChatOpenAI(temperature=0.1)\n",
    "\n",
    "chat.predict(prompt)"
   ]
  },
  {
   "cell_type": "markdown",
   "metadata": {},
   "source": [
    "## Chat Prompt Template"
   ]
  },
  {
   "cell_type": "code",
   "execution_count": 11,
   "metadata": {},
   "outputs": [
    {
     "data": {
      "text/plain": [
       "AIMessage(content='일본과 중국 사이의 거리는 대략 1500km입니다. 제 이름은 Kim입니다.')"
      ]
     },
     "execution_count": 11,
     "metadata": {},
     "output_type": "execute_result"
    }
   ],
   "source": [
    "from langchain.chat_models import ChatOpenAI\n",
    "from langchain.prompts import PromptTemplate, ChatPromptTemplate\n",
    "\n",
    "# chat 을 상단에 위치\n",
    "chat = ChatOpenAI(temperature=0.1)\n",
    "# template 로 ChatPromptTemplate 의 from_messages 사용 - 리스트를 넘겨준다.\n",
    "template = ChatPromptTemplate.from_messages(\n",
    "    [\n",
    "        (\"system\", \"You are geography expert. And you only reply in {language}.\"),\n",
    "        (\"ai\", \"안녕, 내 이름은 {name}이야!\"),\n",
    "        (\n",
    "            \"human\",\n",
    "            \"What is the distance between {country_a} and {country_b}. Also, what is your name?\",\n",
    "        ),\n",
    "    ]\n",
    ")\n",
    "\n",
    "prompt = template.format_messages(\n",
    "    language=\"Korean\",\n",
    "    name=\"Kim\",\n",
    "    country_a=\"Japan\",\n",
    "    country_b=\"China\",\n",
    ")\n",
    "\n",
    "chat.predict_messages(prompt)"
   ]
  }
 ],
 "metadata": {
  "kernelspec": {
   "display_name": "env",
   "language": "python",
   "name": "python3"
  },
  "language_info": {
   "codemirror_mode": {
    "name": "ipython",
    "version": 3
   },
   "file_extension": ".py",
   "mimetype": "text/x-python",
   "name": "python",
   "nbconvert_exporter": "python",
   "pygments_lexer": "ipython3",
   "version": "3.10.4"
  }
 },
 "nbformat": 4,
 "nbformat_minor": 2
}
